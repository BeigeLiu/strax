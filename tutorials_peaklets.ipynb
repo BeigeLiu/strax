{
 "cells": [
  {
   "cell_type": "code",
   "execution_count": 11,
   "metadata": {},
   "outputs": [],
   "source": [
    "import strax"
   ]
  },
  {
   "cell_type": "code",
   "execution_count": 12,
   "metadata": {},
   "outputs": [],
   "source": [
    "####### setting of the current analysis,add plugins and storage sites\n",
    "my_storage_site = strax.DataDirectory('/data1')\n",
    "st   = strax.Context(\n",
    "                register=[\n",
    "                strax.CAENRecords,\n",
    "                strax.PulseProcessing,\n",
    "                strax.Peaklets],\n",
    "                storage=[my_storage_site]\n",
    "                    )"
   ]
  },
  {
   "cell_type": "code",
   "execution_count": 13,
   "metadata": {},
   "outputs": [
    {
     "data": {
      "application/vnd.jupyter.widget-view+json": {
       "model_id": "d740c799c6a34eaf81dca58b67081126",
       "version_major": 2,
       "version_minor": 0
      },
      "text/plain": [
       "Checking data availability:   0%|          | 0/1 [00:00<?, ?it/s]"
      ]
     },
     "metadata": {},
     "output_type": "display_data"
    },
    {
     "name": "stdout",
     "output_type": "stream",
     "text": [
      "Empty DataFrame\n",
      "Columns: [name, number, mode, source, tags, peaklets_available]\n",
      "Index: []\n"
     ]
    }
   ],
   "source": [
    "### find the sources that are ready for analysis\n",
    "dsets = st.select_runs(available = 'peaklets') ## available: means which type of the data that are available\n",
    "print(dsets)\n"
   ]
  },
  {
   "cell_type": "markdown",
   "metadata": {},
   "source": [
    "We can see that dsets is pandas DataFrame, and the name and number indicates which run the data belongs to. For example, number 3070 corresponds to the run3 segmentation70 data. "
   ]
  },
  {
   "cell_type": "code",
   "execution_count": 14,
   "metadata": {},
   "outputs": [
    {
     "ename": "IndexError",
     "evalue": "tuple index out of range",
     "output_type": "error",
     "traceback": [
      "\u001b[0;31m---------------------------------------------------------------------------\u001b[0m",
      "\u001b[0;31mIndexError\u001b[0m                                Traceback (most recent call last)",
      "\u001b[1;32m/home/user/data_process/tutorials_peaklets.ipynb Cell 5\u001b[0m line \u001b[0;36m3\n\u001b[1;32m      <a href='vscode-notebook-cell://ssh-remote%2B7b22686f73744e616d65223a22444151227d/home/user/data_process/tutorials_peaklets.ipynb#X23sdnNjb2RlLXJlbW90ZQ%3D%3D?line=0'>1</a>\u001b[0m \u001b[39m### lets get all the run3 data\u001b[39;00m\n\u001b[1;32m      <a href='vscode-notebook-cell://ssh-remote%2B7b22686f73744e616d65223a22444151227d/home/user/data_process/tutorials_peaklets.ipynb#X23sdnNjb2RlLXJlbW90ZQ%3D%3D?line=1'>2</a>\u001b[0m run_ids  \u001b[39m=\u001b[39m [i \u001b[39mfor\u001b[39;00m i \u001b[39min\u001b[39;00m dsets[\u001b[39m'\u001b[39m\u001b[39mname\u001b[39m\u001b[39m'\u001b[39m] \u001b[39mif\u001b[39;00m i[\u001b[39m4\u001b[39m]\u001b[39m==\u001b[39m\u001b[39m'\u001b[39m\u001b[39m3\u001b[39m\u001b[39m'\u001b[39m]\n\u001b[0;32m----> <a href='vscode-notebook-cell://ssh-remote%2B7b22686f73744e616d65223a22444151227d/home/user/data_process/tutorials_peaklets.ipynb#X23sdnNjb2RlLXJlbW90ZQ%3D%3D?line=2'>3</a>\u001b[0m peaklets \u001b[39m=\u001b[39m st\u001b[39m.\u001b[39;49mget_array(run_id\u001b[39m=\u001b[39;49mrun_ids,targets\u001b[39m=\u001b[39;49m\u001b[39m'\u001b[39;49m\u001b[39mpeaklets\u001b[39;49m\u001b[39m'\u001b[39;49m) \n\u001b[1;32m      <a href='vscode-notebook-cell://ssh-remote%2B7b22686f73744e616d65223a22444151227d/home/user/data_process/tutorials_peaklets.ipynb#X23sdnNjb2RlLXJlbW90ZQ%3D%3D?line=3'>4</a>\u001b[0m \u001b[39mprint\u001b[39m(\u001b[39mlen\u001b[39m(peaklets))\n",
      "File \u001b[0;32m~/data_process/strax/context.py:1433\u001b[0m, in \u001b[0;36mget_array\u001b[0;34m(self, run_id, targets, save, max_workers, **kwargs)\u001b[0m\n\u001b[1;32m   1428\u001b[0m     results \u001b[39m=\u001b[39m strax\u001b[39m.\u001b[39mmulti_run(\n\u001b[1;32m   1429\u001b[0m         \u001b[39mself\u001b[39m\u001b[39m.\u001b[39mget_array, run_ids, targets\u001b[39m=\u001b[39mtargets,\n\u001b[1;32m   1430\u001b[0m         log\u001b[39m=\u001b[39m\u001b[39mself\u001b[39m\u001b[39m.\u001b[39mlog,\n\u001b[1;32m   1431\u001b[0m         save\u001b[39m=\u001b[39msave, max_workers\u001b[39m=\u001b[39mmax_workers, \u001b[39m*\u001b[39m\u001b[39m*\u001b[39mkwargs)\n\u001b[1;32m   1432\u001b[0m \u001b[39melse\u001b[39;00m:\n\u001b[0;32m-> 1433\u001b[0m     source \u001b[39m=\u001b[39m \u001b[39mself\u001b[39m\u001b[39m.\u001b[39mget_iter(\n\u001b[1;32m   1434\u001b[0m         run_ids[\u001b[39m0\u001b[39m],\n\u001b[1;32m   1435\u001b[0m         targets,\n\u001b[1;32m   1436\u001b[0m         save\u001b[39m=\u001b[39msave,\n\u001b[1;32m   1437\u001b[0m         max_workers\u001b[39m=\u001b[39mmax_workers,\n\u001b[1;32m   1438\u001b[0m         \u001b[39m*\u001b[39m\u001b[39m*\u001b[39mkwargs)\n\u001b[1;32m   1439\u001b[0m     results \u001b[39m=\u001b[39m [x\u001b[39m.\u001b[39mdata \u001b[39mfor\u001b[39;00m x \u001b[39min\u001b[39;00m source]\n\u001b[1;32m   1440\u001b[0m results \u001b[39m=\u001b[39m np\u001b[39m.\u001b[39mconcatenate(results)\n",
      "\u001b[0;31mIndexError\u001b[0m: tuple index out of range"
     ]
    }
   ],
   "source": [
    "### lets get all the run3 data\n",
    "run_ids  = [i for i in dsets['name'] if i[4]=='3']\n",
    "peaklets = st.get_array(run_id=run_ids,targets='peaklets') \n",
    "print(len(peaklets))"
   ]
  },
  {
   "cell_type": "markdown",
   "metadata": {},
   "source": [
    "New we have loaded all the run3 peaklets,totally 6898324 peaklets. Lets take a look at some of the them"
   ]
  },
  {
   "cell_type": "code",
   "execution_count": null,
   "metadata": {},
   "outputs": [
    {
     "data": {
      "image/png": "[encoded data removed]",
      "text/plain": [
       "<Figure size 640x480 with 1 Axes>"
      ]
     },
     "metadata": {},
     "output_type": "display_data"
    }
   ],
   "source": [
    "import matplotlib.pyplot as plt\n",
    "import numpy as np\n",
    "def plot_peaklet(p, t0=None, **kwargs):\n",
    "    n = p['length']\n",
    "    if t0 is None:\n",
    "        t0 = p['time']\n",
    "    plt.plot((p['time'] - t0) + np.arange(n) * p['dt'], \n",
    "             p['data'][:n] / p['dt'], \n",
    "             drawstyle='steps-mid',\n",
    "             **kwargs)\n",
    "    plt.xlabel(\"Time (ns)\")\n",
    "    plt.ylabel(\"Sum waveform (PE / ns)\")\n",
    "\n",
    "plot_peaklet(peaklets[2])\n",
    "plt.show()"
   ]
  },
  {
   "cell_type": "markdown",
   "metadata": {},
   "source": [
    "It seems to be a S2 peak. But note that the peaklets are not classified.All the peaks' type are set to be 0"
   ]
  },
  {
   "cell_type": "code",
   "execution_count": null,
   "metadata": {},
   "outputs": [
    {
     "name": "stdout",
     "output_type": "stream",
     "text": [
      "[0 0 0 ... 0 0 0]\n"
     ]
    }
   ],
   "source": [
    "print(peaklets['type'])"
   ]
  },
  {
   "cell_type": "code",
   "execution_count": null,
   "metadata": {},
   "outputs": [
    {
     "name": "stderr",
     "output_type": "stream",
     "text": [
      "/home/user/data_process/strax/utils.py:494: UserWarning: You are asking for more than 70 runs at a time with add_run_id_field=True. Changing run_id data_type from string to bytes would reduce memory consumption. Do so with passing \"run_id_as_bytes=True\" . When you do, please note that \"run_id\" != b\"run_id\"! You can convert a byte string back to a normal string via b\"byte_string\".decode(\"utf-8\"). \n",
      "  warn('You are asking for more than 70 runs at a time with add_run_id_field=True. '\n"
     ]
    },
    {
     "data": {
      "application/vnd.jupyter.widget-view+json": {
       "model_id": "1718094ffc944587bbf2912d5f450dcf",
       "version_major": 2,
       "version_minor": 0
      },
      "text/plain": [
       "Loading 91 runs:   0%|          | 0/91 [00:00<?, ?it/s]"
      ]
     },
     "metadata": {},
     "output_type": "display_data"
    }
   ],
   "source": [
    "### You can get the type of these peaklets by using the default peaklet classification plugin\n",
    "st.register(strax.PeakletClassification) ## add default peaklet classificatoin plugin\n",
    "peaklets_classification = st.get_array(run_id=run_ids,targets='peaklet_classification') ## apply this plugin"
   ]
  },
  {
   "cell_type": "code",
   "execution_count": null,
   "metadata": {},
   "outputs": [
    {
     "name": "stdout",
     "output_type": "stream",
     "text": [
      "[2 2 2 ... 2 2 1]\n"
     ]
    }
   ],
   "source": [
    "print(peaklets_classification['type'])"
   ]
  },
  {
   "cell_type": "markdown",
   "metadata": {},
   "source": [
    "You can also write your own classification plugin. Just to inherit the strax.plugin class"
   ]
  },
  {
   "cell_type": "code",
   "execution_count": null,
   "metadata": {},
   "outputs": [],
   "source": [
    "#### show case of a strax plugin\n",
    "class AdvancedExpertClassification(strax.Plugin):\n",
    "    \"\"\"Everything is an S1!\"\"\"\n",
    "    \n",
    "    # Name of the data type this plugin provides\n",
    "    provides = 'peaklet_classification'\n",
    "    \n",
    "    # Data types this plugin requires. Note we don't specify\n",
    "    # what plugins should produce them: maybe the default PeakBasics\n",
    "    # has been replaced by another AdvancedExpertBlabla plugin?\n",
    "    depends_on = ('peaklets',)\n",
    "    \n",
    "    # Numpy datatype of the output \n",
    "    dtype = strax.PeakletClassification.dtype\n",
    "    \n",
    "    # Version of the plugin. Increment this if you change the algorithm.\n",
    "    __version__ = '0.0.2'\n",
    "\n",
    "    def compute(self, peaklets):\n",
    "        # Your code here.\n",
    "        # This function will be called several times with \n",
    "        # 'peaks' a numpy array of the datatype 'peaks'.\n",
    "        # Each time you'll see a small part of the run.\n",
    "        \n",
    "        # You have to return a numpy array of the dtype you declared above\n",
    "        result = np.zeros(len(peaklets), self.dtype)\n",
    "        \n",
    "        # Copy the basic time fields over from peaklets\n",
    "        for (_, field), _ in strax.time_dt_fields:\n",
    "            result[field] = peaklets[field]\n",
    "            \n",
    "        # Store the classification results\n",
    "        # You might want to do real work here\n",
    "        result['type'] = 1\n",
    "        \n",
    "        return result\n",
    "        \n",
    "        # Instead of an array, you are also allowed to return a dictionary \n",
    "        # we can transform into an array.\n",
    "        # That is, (dict keys -> field names, values -> field values)"
   ]
  },
  {
   "cell_type": "code",
   "execution_count": null,
   "metadata": {},
   "outputs": [
    {
     "name": "stderr",
     "output_type": "stream",
     "text": [
      "/home/user/data_process/strax/utils.py:494: UserWarning: You are asking for more than 70 runs at a time with add_run_id_field=True. Changing run_id data_type from string to bytes would reduce memory consumption. Do so with passing \"run_id_as_bytes=True\" . When you do, please note that \"run_id\" != b\"run_id\"! You can convert a byte string back to a normal string via b\"byte_string\".decode(\"utf-8\"). \n",
      "  warn('You are asking for more than 70 runs at a time with add_run_id_field=True. '\n"
     ]
    },
    {
     "data": {
      "application/vnd.jupyter.widget-view+json": {
       "model_id": "31f1a4203dd548f9bb061334a382d7c9",
       "version_major": 2,
       "version_minor": 0
      },
      "text/plain": [
       "Loading 91 runs:   0%|          | 0/91 [00:00<?, ?it/s]"
      ]
     },
     "metadata": {},
     "output_type": "display_data"
    },
    {
     "name": "stdout",
     "output_type": "stream",
     "text": [
      "[1 1 1 ... 1 1 1]\n"
     ]
    }
   ],
   "source": [
    "st2 = st.new_context(storage=[strax.DataDirectory('/home/user/data_process/test')]) ## set a new context,change storage site\n",
    "st2.register(AdvancedExpertClassification)  ## add this plugin\n",
    "ptype = st2.get_array(run_id=run_ids,targets='peaklet_classification') ## apply this plugin\n",
    "print(ptype['type'])"
   ]
  },
  {
   "cell_type": "code",
   "execution_count": null,
   "metadata": {},
   "outputs": [],
   "source": []
  }
 ],
 "metadata": {
  "kernelspec": {
   "display_name": "DAQ",
   "language": "python",
   "name": "python3"
  },
  "language_info": {
   "codemirror_mode": {
    "name": "ipython",
    "version": 3
   },
   "file_extension": ".py",
   "mimetype": "text/x-python",
   "name": "python",
   "nbconvert_exporter": "python",
   "pygments_lexer": "ipython3",
   "version": "3.10.13"
  }
 },
 "nbformat": 4,
 "nbformat_minor": 2
}
